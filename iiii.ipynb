{
  "nbformat": 4,
  "nbformat_minor": 0,
  "metadata": {
    "kernelspec": {
      "name": "python3",
      "display_name": "Python 3"
    },
    "language_info": {
      "name": "python"
    }
  },
  "cells": [
    {
      "cell_type": "markdown",
      "source": [
        "# SiFThon Light - تشغيل مباشر\n",
        "نسخة جاهزة لتشغيل السورس مباشرة بأمر `python -m SiFThon` مع تثبيت جميع المكتبات المطلوبة"
      ],
      "metadata": {}
    },
    {
      "cell_type": "code",
      "source": [
        "# @title إدخال المتغيرات\n",
        "import ipywidgets as widgets\n",
        "from IPython.display import display\n",
        "\n",
        "session_input = widgets.Text(description='SESSION:')\n",
        "api_id_input = widgets.Text(description='API_ID:')\n",
        "api_hash_input = widgets.Text(description='API_HASH:')\n",
        "bot_token_input = widgets.Text(description='BOT_TOKEN:')\n",
        "display(session_input, api_id_input, api_hash_input, bot_token_input)\n",
        "output = widgets.Output()\n",
        "display(output)\n",
        "\n",
        "def validate():\n",
        "    if not all([session_input.value, api_id_input.value, api_hash_input.value, bot_token_input.value]):\n",
        "        return False, 'املأ جميع الحقول'\n",
        "    if not api_id_input.value.isnumeric():\n",
        "        return False, 'API_ID يجب أن يحتوي على أرقام فقط'\n",
        "    return True, ''\n",
        "\n",
        "def confirm(b):\n",
        "    valid, msg = validate()\n",
        "    with output:\n",
        "        output.clear_output()\n",
        "        if valid:\n",
        "            session_input.disabled = True\n",
        "            api_id_input.disabled = True\n",
        "            api_hash_input.disabled = True\n",
        "            bot_token_input.disabled = True\n",
        "            confirm_button.disabled = True\n",
        "            print('✅ تم تأكيد المتغيرات')\n",
        "        else:\n",
        "            print(f'⚠️ خطأ: {msg}')\n",
        "\n",
        "confirm_button = widgets.Button(description='تأكيد البيانات', button_style='success')\n",
        "confirm_button.on_click(confirm)\n",
        "display(confirm_button)"
      ],
      "metadata": {}
    },
    {
      "cell_type": "code",
      "source": [
        "# @title تحميل وفك وتشغيل السورس مع تثبيت كل المكتبات المطلوبة\n",
        "import os, requests, zipfile\n",
        "\n",
        "os.makedirs('SiFThon', exist_ok=True)\n",
        "\n",
        "API_ID = api_id_input.value.strip()\n",
        "API_HASH = api_hash_input.value.strip()\n",
        "SESSION = session_input.value.strip()\n",
        "BOT_TOKEN = bot_token_input.value.strip()\n",
        "\n",
        "# تحميل السورس\n",
        "url = 'http://especi1.serv00.net/SiFThon.zip'\n",
        "zip_file = 'SiFThon.zip'\n",
        "print('⏳ جاري تحميل السورس...')\n",
        "r = requests.get(url)\n",
        "with open(zip_file, 'wb') as f:\n",
        "    f.write(r.content)\n",
        "\n",
        "# فك الضغط\n",
        "print('⏳ جاري فك الضغط...')\n",
        "with zipfile.ZipFile(zip_file, 'r') as zip_ref:\n",
        "    zip_ref.extractall('SiFThon')\n",
        "\n",
        "# تثبيت جميع المكتبات المطلوبة\n",
        "print('⏳ جاري تثبيت جميع المكتبات المطلوبة...')\n",
        "libraries = [\n",
        "    'telethon', 'pyrogram', 'requests', 'tabulate', 'ipaddress', 'redis', 'telegraph',\n",
        "    'python-decouple', 'Pillow', 'pytz', 'gitpython', 'yt-dlp', 'ytdl', 'youtube-search-python'\n",
        "]\n",
        "os.system('pip install -q ' + ' '.join(libraries))\n",
        "\n",
        "# إنشاء ملف .env\n",
        "env_content = f\"\"\"API_ID={API_ID}\nAPI_HASH={API_HASH}\nSESSION={SESSION}\nBOT_TOKEN={BOT_TOKEN}\n\"\"\"\n",
        "with open('SiFThon/.env', 'w') as f:\n",
        "    f.write(env_content)\n",
        "\n",
        "# تشغيل السورس كوحدة\n",
        "print('🚀 جاري تشغيل السورس...')\n",
        "os.chdir('SiFThon')\n",
        "os.system('python -m SiFThon')"
      ],
      "metadata": {}
    }
  ]
}
