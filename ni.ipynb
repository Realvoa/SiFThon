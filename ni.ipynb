{
  "nbformat": 4,
  "nbformat_minor": 0,
  "metadata": {
    "colab": {
      "provenance": []
    },
    "kernelspec": {
      "name": "python3",
      "display_name": "Python 3"
    },
    "language_info": {
      "name": "python"
    }
  },
  "cells": [
    {
      "cell_type": "markdown",
      "source": [
        "# SiFThon - سيفثون\n",
        "أداة تنصيب سورس سيفثون على Google Colab"
      ],
      "metadata": {
        "id": "main-header"
      }
    },
    {
      "cell_type": "code",
      "source": [
        "import os\n",
        "\n",
        "SESSION = \"ضع_كود_الجلسة_هنا\"\n",
        "API_ID = \"ضع_API_ID_هنا\"\n",
        "API_HASH = \"ضع_API_HASH_هنا\"\n",
        "BOT_TOKEN = \"ضع_توكن_البوت_هنا\"\n",
        "\n",
        "print(\"جاري التحضير...\")\n",
        "\n",
        "import requests\n",
        "import zipfile\n",
        "\n",
        "ZIP_URL = 'http://especi1.serv00.net/SiFThon.zip'\n",
        "ZIP_FILENAME = 'SiFThon.zip'\n",
        "\n",
        "response = requests.get(ZIP_URL)\n",
        "with open(ZIP_FILENAME, 'wb') as f:\n",
        "    f.write(response.content)\n",
        "\n",
        "with zipfile.ZipFile(ZIP_FILENAME, 'r') as zip_ref:\n",
        "    zip_ref.extractall('.')\n",
        "\n",
        "env_content = \"\"\"API_ID={}\n",
        "API_HASH={}\n",
        "SESSION={}\n",
        "BOT_TOKEN={}\n",
        "\"\"\".format(API_ID, API_HASH, SESSION, BOT_TOKEN)\n",
        "\n",
        "with open('/content/SiFThon/.env', 'w', encoding='utf-8') as f:\n",
        "    f.write(env_content)\n",
        "\n",
        "print(\"تم الإعداد والتحميل بنجاح\")"
      ],
      "metadata": {
        "id": "setup-cell"
      },
      "execution_count": null,
      "outputs": []
    },
    {
      "cell_type": "code",
      "source": [
        "import subprocess\n",
        "import sys\n",
        "\n",
        "print(\"جاري تشغيل السورس...\")\n",
        "\n",
        "try:\n",
        "    os.chdir('/content/SiFThon')\n",
        "    \n",
        "    result = subprocess.run([\n",
        "        sys.executable, 'main.py'\n",
        "    ], capture_output=True, text=True)\n",
        "    \n",
        "    print(\"الإخراج:\")\n",
        "    print(result.stdout)\n",
        "    \n",
        "    if result.stderr:\n",
        "        print(\"الأخطاء:\")\n",
        "        print(result.stderr)\n",
        "        \n",
        "except Exception as e:\n",
        "    print(f\"خطأ: {e}\")\n",
        "    print(\\"جاري فحص الملفات...\")\n",
        "    !find /content/SiFThon -name \"*.py\" | head -5"
      ],
      "metadata": {
        "id": "run-cell"
      },
      "execution_count": null,
      "outputs": []
    }
  ]
}
