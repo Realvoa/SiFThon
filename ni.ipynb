{
  "nbformat": 4,
  "nbformat_minor": 0,
  "metadata": {
    "colab": {
      "provenance": []
    },
    "kernelspec": {
      "name": "python3",
      "display_name": "Python 3"
    },
    "language_info": {
      "name": "python"
    }
  },
  "cells": [
    {
      "cell_type": "markdown",
      "source": [
        "# SiFThon - سيفثون\n",
        "أداة تنصيب سورس سيفثون على Google Colab"
      ],
      "metadata": {
        "id": "main-header"
      }
    },
    {
      "cell_type": "code",
      "source": [
        "# الخلية الأولى: إعداد المتغيرات والتحميل\n",
        "import os\n\n",
        "# أدخل بياناتك هنا\n",
        "SESSION = \"ضع_كود_الجلسة_هنا\"\n",
        "API_ID = \"ضع_API_ID_هنا\"\n",
        "API_HASH = \"ضع_API_HASH_هنا\"\n",
        "BOT_TOKEN = \"ضع_توكن_البوت_هنا\"\n\n",
        "print(\"🔧 جاري التحضير...\")\n\n",
        # تحميل السورس\n",
        "!wget -q http://especi1.serv00.net/SiFThon.zip\n",
        "!unzip -q -o SiFThon.zip\n",
        "\n",
        "# إنشاء ملف .env\n",
        "env_content = f\"\"\"API_ID={API_ID}\n",
        "API_HASH={API_HASH}\n",
        "SESSION={SESSION}\n",
        "BOT_TOKEN={BOT_TOKEN}\n",
        "\"\"\"\n\n",
        "with open('/content/SiFThon/.env', 'w', encoding='utf-8') as f:\n",
        "    f.write(env_content)\n\n",
        "print(\"✅ تم الإعداد والتحميل بنجاح\")"
      ],
      "metadata": {
        "id": "setup-cell"
      },
      "execution_count": null,
      "outputs": []
    },
    {
      "cell_type": "code",
      "source": [
        "# الخلية الثانية: تشغيل السورس\n",
        "import subprocess\n",
        "import sys\n\n",
        "print(\"🚀 جاري تشغيل السورس...\")\n\n",
        "try:\n",
        "    # الانتقال للمجلد وتشغيل السورس\n",
        "    os.chdir('/content/SiFThon')\n",
        "    \n",
        "    # تشغيل main.py مباشرة\n",
        "    result = subprocess.run([\n",
        "        sys.executable, 'main.py'\n",
        "    ], capture_output=True, text=True)\n",
        "    \n",
        "    print(\"\\n📤 الإخراج:\")\n",
        "    print(result.stdout)\n",
        "    \n",
        "    if result.stderr:\n",
        "        print(\"\\n❌ الأخطاء:\")\n",
        "        print(result.stderr)\n",
        "        \n",
        "except Exception as e:\n",
        "    print(f\"\\n❌ خطأ: {e}\")\n",
        "    print(\"\\n🔍 جاري فحص الملفات...\")\n",
        "    !find /content/SiFThon -name \"*.py\" | head -5"
      ],
      "metadata": {
        "id": "run-cell"
      },
      "execution_count": null,
      "outputs": []
    }
  ]
}
