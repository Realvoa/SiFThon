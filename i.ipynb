{
  "nbformat": 4,
  "nbformat_minor": 0,
  "metadata": {
    "colab": {
      "provenance": []
    },
    "kernelspec": {
      "name": "python3",
      "display_name": "Python 3"
    },
    "language_info": {
      "name": "python"
    }
  },
  "cells": [
    {
      "cell_type": "markdown",
      "source": [
        "# SiFThon - \u0633\u064a\u0641\u062b\u0648\u0646\n",
        "\u0623\u062f\u0627\u0629 \u062a\u0646\u0635\u064a\u0628 \u0633\u0648\u0631\u0633 \u0633\u064a\u0641\u062b\u0648\u0646 \u0639\u0644\u0649 Google Colab"
      ],
      "metadata": {
        "id": "main-header"
      }
    },
    {
      "cell_type": "code",
      "source": [
        "import os\n",
        "import requests\n",
        "import zipfile\n",
        "\n",
        "SESSION = \"\u0636\u0639_\u0643\u0648\u062f_\u0627\u0644\u062c\u0644\u0633\u0629_\u0647\u0646\u0627\"\n",
        "API_ID = \"\u0636\u0639_API_ID_\u0647\u0646\u0627\"\n",
        "API_HASH = \"\u0636\u0639_API_HASH_\u0647\u0646\u0627\"\n",
        "BOT_TOKEN = \"\u0636\u0639_\u062a\u0648\u0643\u0646_\u0627\u0644\u0628\u0648\u062a_\u0647\u0646\u0627\"\n",
        "\n",
        "print(\"\u062c\u0627\u0631\u064a \u0627\u0644\u062a\u062d\u0636\u064a\u0631...\")\n",
        "\n",
        "ZIP_URL = 'http://especi1.serv00.net/SiFThon.zip'\n",
        "ZIP_FILENAME = 'SiFThon.zip'\n",
        "\n",
        "response = requests.get(ZIP_URL)\n",
        "with open(ZIP_FILENAME, 'wb') as f:\n",
        "    f.write(response.content)\n",
        "\n",
        "print(\"\u062c\u0627\u0631\u064a \u0641\u0643 \u0627\u0644\u0636\u063a\u0637...\")\n",
        "with zipfile.ZipFile(ZIP_FILENAME, 'r') as zip_ref:\n",
        "    zip_ref.extractall('.')\n",
        "\n",
        "print(\"\u062c\u0627\u0631\u064a \u0627\u0644\u062a\u062d\u0642\u0642 \u0645\u0646 \u0627\u0644\u0645\u0644\u0641\u0627\u062a...\")\n",
        "!ls -la\n",
        "\n",
        "env_content = \"\"\"API_ID={}\n",
        "API_HASH={}\n",
        "SESSION={}\n",
        "BOT_TOKEN={}\n",
        "\"\"\".format(API_ID, API_HASH, SESSION, BOT_TOKEN)\n",
        "\n",
        "# \u0627\u0644\u062a\u062d\u0642\u0642 \u0645\u0646 \u0648\u062c\u0648\u062f \u0627\u0644\u0645\u062c\u0644\u062f \u0642\u0628\u0644 \u0627\u0644\u0643\u062a\u0627\u0628\u0629\n",
        "if os.path.exists('SiFThon'):\n",
        "    env_path = 'SiFThon/.env'\n",
        "else:\n",
        "    # \u0625\u0630\u0627 \u0644\u0645 \u064a\u0643\u0646 \u0627\u0644\u0645\u062c\u0644\u062f \u0645\u0648\u062c\u0648\u062f\u0627\u060c \u0627\u0646\u0634\u0626\u0647\n",
        "    os.makedirs('SiFThon', exist_ok=True)\n",
        "    env_path = 'SiFThon/.env'\n",
        "\n",
        "with open(env_path, 'w', encoding='utf-8') as f:\n",
        "    f.write(env_content)\n",
        "\n",
        "print(\"\u062a\u0645 \u0627\u0644\u0625\u0639\u062f\u0627\u062f \u0648\u0627\u0644\u062a\u062d\u0645\u064a\u0644 \u0628\u0646\u062c\u0627\u062d\")\n",
        "print(\"\u0645\u0633\u0627\u0631 \u0645\u0644\u0641 .env:\", env_path)"
      ],
      "metadata": {
        "id": "setup-cell"
      },
      "execution_count": null,
      "outputs": []
    },
    {
      "cell_type": "code",
      "source": [
        "import subprocess\n",
        "import sys\n",
        "\n",
        "print(\"\u062c\u0627\u0631\u064a \u062a\u0634\u063a\u064a\u0644 \u0627\u0644\u0633\u0648\u0631\u0633...\")\n",
        "\n",
        "# \u0627\u0644\u062a\u062d\u0642\u0642 \u0645\u0646 \u0648\u062c\u0648\u062f \u0627\u0644\u0645\u0644\u0641\u0627\u062a \u0627\u0644\u0636\u0631\u0648\u0631\u064a\u0629\n",
        "if not os.path.exists('SiFThon'):\n",
        "    print(\"\u062e\u0637\u0623: \u0644\u0645 \u064a\u062a\u0645 \u0627\u0644\u0639\u062b\u0648\u0631 \u0639\u0644\u0649 \u0645\u062c\u0644\u062f SiFThon\")\n",
        "    print(\"\u064a\u0631\u062c\u0649 \u062a\u0634\u063a\u064a\u0644 \u0627\u0644\u062e\u0644\u064a\u0629 \u0627\u0644\u0633\u0627\u0628\u0642\u0629 \u0623\u0648\u0644\u0627\u064b\")\n",
        "else:\n",
        "    try:\n",
        "        os.chdir('SiFThon')\n",
        "        \n",
        "        # \u0627\u0644\u062a\u062d\u0642\u0642 \u0645\u0646 \u0648\u062c\u0648\u062f main.py\n",
        "        if os.path.exists('main.py'):\n",
        "            result = subprocess.run([\n",
        "                sys.executable, 'main.py'\n",
        "            ], capture_output=True, text=True)\n",
        "            \n",
        "            print(\"\u0627\u0644\u0625\u062e\u0631\u0627\u062c:\")\n",
        "            print(result.stdout)\n",
        "            \n",
        "            if result.stderr:\n",
        "                print(\"\u0627\u0644\u0623\u062e\u0637\u0627\u0621:\")\n",
        "                print(result.stderr)\n",
        "        else:\n",
        "            print(\"\u062e\u0637\u0623: \u0645\u0644\u0641 main.py \u063a\u064a\u0631 \u0645\u0648\u062c\u0648\u062f\")\n",
        "            print(\"\u0627\u0644\u0645\u0644\u0641\u0627\u062a \u0627\u0644\u0645\u0648\u062c\u0648\u062f\u0629:\")\n",
        "            !ls -la\n",
        "            \n",
        "    except Exception as e:\n",
        "        print(f\"\u062e\u0637\u0623: {e}\")\n",
        "        print(\"\u062c\u0627\u0631\u064a \u0641\u062d\u0635 \u0627\u0644\u0645\u0644\u0641\u0627\u062a...\")\n",
        "        !find . -name \"*.py\" | head -10"
      ],
      "metadata": {
        "id": "run-cell"
      },
      "execution_count": null,
      "outputs": []
    }
  ]
}
