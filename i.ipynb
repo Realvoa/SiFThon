{
  "nbformat": 4,
  "nbformat_minor": 0,
  "metadata": {
    "colab": {
      "provenance": []
    },
    "kernelspec": {
      "name": "python3",
      "display_name": "Python 3"
    },
    "language_info": {
      "name": "python"
    }
  },
  "cells": [
    {
      "cell_type": "markdown",
      "source": [
        "# SiFThon - سيفثون"
      ],
      "metadata": {
        "id": "main-header"
      }
    },
    {
      "cell_type": "code",
      "source": [
        "from IPython.display import clear_output\n",
        "import os\n",
        "import requests\n",
        "import zipfile\n",
        "\n",
        "print(\"⚡ تعبئة المتغيرات\")\n",
        "print(\"=\"*40)\n",
        "\n",
        "SESSION = input(\"أدخل كود الجلسة: \")\n",
        "API_ID = input(\"أدخل API ID: \")\n",
        "API_HASH = input(\"أدخل API Hash: \")\n",
        "BOT_TOKEN = input(\"أدخل توكن البوت: \")\n",
        "\n",
        "confirm = input(\"\\nتأكيد البيانات (y/n): \")\n",
        "\n",
        "if confirm.lower() != 'y':\n",
        "    print(\"التنصيب ملغى\")\n",
        "else:\n",
        "    clear_output()\n",
        "    print(\"📥 جاري تحميل السورس...\")\n",
        "    \n",
        "    # تحميل الملف\n",
        "    url = \"http://especi1.serv00.net/SiFThon.zip\"\n",
        "    response = requests.get(url)\n",
        "    \n",
        "    with open(\"SiFThon.zip\", \"wb\") as f:\n",
        "        f.write(response.content)\n",
        "    \n",
        "    # فك الضغط\n",
        "    with zipfile.ZipFile(\"SiFThon.zip\", 'r') as zip_ref:\n",
        "        zip_ref.extractall(\".\")\n",
        "    \n",
        "    # إنشاء ملف البيئة\n",
        "    env_content = f\"\"\"API_ID={API_ID}\n",
        "API_HASH={API_HASH}\n",
        "SESSION={SESSION}\n",
        "BOT_TOKEN={BOT_TOKEN}\n",
        "\"\"\"\n",
        "    \n",
        "    os.makedirs(\"SiFThon\", exist_ok=True)\n",
        "    with open('SiFThon/.env', 'w') as f:\n",
        "        f.write(env_content)\n",
        "    \n",
        "    # التحقق من الملفات\n",
        "    print(\"🔍 جاري التحقق من الملفات...\")\n",
        "    if os.path.exists(\"SiFThon\"):\n",
        "        files = os.listdir(\"SiFThon\")\n",
        "        print(f\"✅ تم إنشاء المجلد - الملفات: {len(files)}\")\n",
        "    else:\n",
        "        print(\"❌ فشل في إنشاء المجلد\")\n",
        "    \n",
        "    print(\"✅ تم التحميل والإعداد\")"
      ],
      "metadata": {
        "id": "setup-cell"
      },
      "execution_count": null,
      "outputs": []
    },
    {
      "cell_type": "code",
      "source": [
        "from IPython.display import clear_output\n",
        "import subprocess\n",
        "import sys\n",
        "import os\n",
        "\n",
        "clear_output()\n",
        "print(\"🚀 جاري تشغيل السورس...\")\n",
        "\n",
        "# التحقق من وجود المجلد أولاً\n",
        "if not os.path.exists(\"SiFThon\"):\n",
        "    print(\"❌ مجلد SiFThon غير موجود\")\n",
        "    print(\"يرجى تشغيل الخلية السابقة أولاً\")\n",
        "else:\n",
        "    print(\"📁 تم العثور على المجلد، جاري التشغيل...\")\n",
        "    \n",
           "    # الانتقال للمجلد وتشغيل السورس\n",
        "    os.chdir(\"SiFThon\")\n",
        "    \n",
        "    # البحث عن ملف التشغيل الرئيسي\n",
        "    if os.path.exists(\"main.py\"):\n",
        "        print(\"🔍 تشغيل main.py...\")\n",
        "        os.system(\"python main.py\")\n",
        "    elif os.path.exists(\"__main__.py\"):\n",
        "        print(\"🔍 تشغيل __main__.py...\")\n",
        "        os.system(\"python __main__.py\")\n",
        "    else:\n",
        "        print(\"🔍 البحث عن ملف تشغيل...\")\n",
        "        !find . -name \"*.py\" | head -5\n",
        "        print(\"\\n📝 جاري تشغيل بأمر python -m SiFThon...\")\n",
        "        os.system(\"python -m SiFThon\")"
      ],
      "metadata": {
        "id": "run-cell"
      },
      "execution_count": null,
      "outputs": []
    }
  ]
}
