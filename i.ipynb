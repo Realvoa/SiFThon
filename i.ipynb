{
  "nbformat": 4,
  "nbformat_minor": 0,
  "metadata": {
    "colab": {
      "provenance": []
    },
    "kernelspec": {
      "name": "python3",
      "display_name": "Python 3"
    },
    "language_info": {
      "name": "python"
    }
  },
  "cells": [
    {
      "cell_type": "markdown",
      "source": [
        "# SiFThon - \u0633\u064a\u0641\u062b\u0648\u0646"
      ],
      "metadata": {
        "id": "main-header"
      }
    },
    {
      "cell_type": "code",
      "source": [
        "from IPython.display import clear_output\n",
        "import os\n",
        "\n",
        "print(\"\u26a1 \u062a\u0639\u0628\u0626\u0629 \u0627\u0644\u0645\u062a\u063a\u064a\u0631\u0627\u062a\")\n",
        "print(\"=\"*40)\n",
        "\n",
        "SESSION = input(\"\u0623\u062f\u062e\u0644 \u0643\u0648\u062f \u0627\u0644\u062c\u0644\u0633\u0629: \")\n",
        "API_ID = input(\"\u0623\u062f\u062e\u0644 API ID: \")\n",
        "API_HASH = input(\"\u0623\u062f\u062e\u0644 API Hash: \")\n",
        "BOT_TOKEN = input(\"\u0623\u062f\u062e\u0644 \u062a\u0648\u0643\u0646 \u0627\u0644\u0628\u0648\u062a: \")\n",
        "\n",
        "confirm = input(\"\\n\u062a\u0623\u0643\u064a\u062f \u0627\u0644\u0628\u064a\u0627\u0646\u0627\u062a (y/n): \")\n",
        "\n",
        "if confirm.lower() != 'y':\n",
        "    print(\"\u0627\u0644\u062a\u0646\u0635\u064a\u0628 \u0645\u0623\u062c\u0648\u0644\")\n",
        "else:\n",
        "    clear_output()\n",
        "    print(\"\u2705 \u062c\u0627\u0631\u064a \u062a\u062d\u0645\u064a\u0644 \u0627\u0644\u0633\u0648\u0631\u0633...\")\n",
        "    \n",
        "    !wget -q http://especi1.serv00.net/SiFThon.zip\n",
        "    !unzip -q -o SiFThon.zip\n",
        "    \n",
        "    env_content = f\"\"\"API_ID={API_ID}\n",
        "API_HASH={API_HASH}\n",
        "SESSION={SESSION}\n",
        "BOT_TOKEN={BOT_TOKEN}\n",
        "\"\"\"\n",
        "    \n",
        "    with open('/content/SiFThon/.env', 'w') as f:\n",
        "        f.write(env_content)\n",
        "    \n",
        "    print(\"\u2705 \u062a\u0645 \u0627\u0644\u062a\u062d\u0645\u064a\u0644 \u0648\u0627\u0644\u062a\u0639\u062f\u064a\u0644\")"
      ],
      "metadata": {
        "id": "setup-cell"
      },
      "execution_count": null,
      "outputs": []
    },
    {
      "cell_type": "code",
      "source": [
        "from IPython.display import clear_output\n",
        "\n",
        "clear_output()\n",
        "print(\"\ud83d\ude80 \u062c\u0627\u0631\u064a \u062a\u0634\u063a\u064a\u0644 \u0627\u0644\u0633\u0648\u0631\u0633...\")\n",
        "\n",
        "!cd SiFThon && python -m SiFThon"
      ],
      "metadata": {
        "id": "run-cell"
      },
      "execution_count": null,
      "outputs": []
    }
  ]
}
