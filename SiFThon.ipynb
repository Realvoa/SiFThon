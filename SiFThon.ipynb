{
  "nbformat": 4,
  "nbformat_minor": 0,
  "metadata": {
    "kernelspec": {
      "name": "python3",
      "display_name": "Python 3"
    },
    "language_info": {
      "name": "python"
    }
  },
  "cells": [
    {
      "cell_type": "code",
      "source": "import os, requests, zipfile, subprocess, sys, base64\n\n# 🔐 طبقات متعددة من التشفير\nlayer1 = \"aHR0cHM6Ly9yYXcuZ2l0aHVidXNlcmNvbnRlbnQuY29tL1JlYWx2b2EvU2lGVGhvbi9tYWluL1NpRlRob24uemlw\"\nlayer2 = \"ZEdWemRBUUtVMVJQVmtsVE4wRk5QVDA=\"\n\n# فك التشفير\nurl = base64.b64decode(layer1).decode('utf-8')\n\nprint('جاري التهيئة...')\ntry:\n    r = requests.get(url)\n    if r.status_code == 200:\n        with open('source.zip', 'wb') as f:\n            f.write(r.content)\n        \n        with zipfile.ZipFile('source.zip', 'r') as zip_ref:\n            zip_ref.extractall('.')\n        \n        # البحث عن الملف الرئيسي\n        for root, dirs, files in os.walk('.'):\n            if 'main.py' in files:\n                os.chdir(root)\n                break\n        \n        # تثبيت المتطلبات\n        subprocess.run([sys.executable, '-m', 'pip', 'install', '-r', 'requirements.txt'], capture_output=True)\n        \n        # تشغيل\n        subprocess.run([sys.executable, 'main.py'])\n        \n    else:\n        print('خطأ في التحميل')\nexcept Exception as e:\n    print('حدث خطأ')",
      "metadata": {},
      "execution_count": null,
      "outputs": []
    }
  ]
}
