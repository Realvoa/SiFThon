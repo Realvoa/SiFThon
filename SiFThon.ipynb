# =========================
# SiFThon - نسخة Colab مبسطة
# =========================

print("="*50)
print("SiFThon - أداة تنصيب سورس سيفثون على Telegram")
print("="*50)

# -------------------------
# 1. إدخال المتغيرات
# -------------------------
session_code = input("أدخل كود الجلسة: ").strip()
api_id = input("أدخل API ID: ").strip()
api_hash = input("أدخل API Hash: ").strip()
bot_token = input("أدخل توكن البوت: ").strip()

if not all([session_code, api_id, api_hash, bot_token]):
    print("خطأ: جميع الحقول مطلوبة")
    raise SystemExit
else:
    print("تم تأكيد المدخلات بنجاح")
    print("="*50)

# -------------------------
# 2. إنشاء ملف env
# -------------------------
env_content = f"""API_ID={api_id}
API_HASH={api_hash}
SESSION={session_code}
BOT_TOKEN={bot_token}
"""

with open("env", "w") as f:
    f.write(env_content)

print("تم إنشاء ملف env بنجاح")
print("="*50)

# -------------------------
# 3. تثبيت المتطلبات
# -------------------------
import os

requirements = [
    "telethon",
    "pyrogram",
    "tgcrypto",
    "python-dotenv",
    "requests",
    "youtube-dl",
    "yt-dlp",
    "pillow",
    "pymongo",
    "sqlalchemy",
    "psutil"
]

for req in requirements:
    print(f"جاري تثبيت {req} ...")
    os.system(f"pip install {req} --quiet")

print("تم تثبيت جميع المتطلبات بنجاح")
print("="*50)

# -------------------------
# 4. تحميل سورس SiFThon
# -------------------------
import requests

sifthon_url = "https://hasting.free.nf/SiFThon.zip"

try:
    print("جاري تحميل سورس SiFThon ...")
    r = requests.get(sifthon_url, timeout=30)
    if r.status_code == 200:
        with open("SiFThon.zip", "wb") as f:
            f.write(r.content)
        os.system("unzip -q -o SiFThon.zip -d SiFThon")
        os.remove("SiFThon.zip")
        print("تم تحميل وفك ضغط سورس SiFThon")
    else:
        print(f"فشل التحميل: {r.status_code}")
except Exception as e:
    print(f"حدث خطأ أثناء التحميل: {e}")

# -------------------------
# 5. إنشاء ملف .env داخل مجلد SiFThon
# -------------------------
if not os.path.exists("SiFThon"):
    os.makedirs("SiFThon")

with open("SiFThon/.env", "w") as f:
    f.write(env_content)

print("تم إنشاء ملف .env داخل مجلد SiFThon")
print("="*50)

# -------------------------
# 6. تشغيل السورس
# -------------------------
print("جاري تشغيل سورس SiFThon ...")
os.chdir("SiFThon")

if os.path.exists("main.py"):
    os.system("python main.py")
elif os.path.exists("sifthon.py"):
    os.system("python sifthon.py")
else:
    print("لم يتم العثور على ملف التشغيل الرئيسي")
    print("ملفات موجودة في المجلد:")
    os.system("ls -la")
