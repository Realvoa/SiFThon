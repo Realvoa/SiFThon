{
  "nbformat": 4,
  "nbformat_minor": 0,
  "metadata": {
    "colab": {
      "provenance": []
    },
    "kernelspec": {
      "name": "python3",
      "display_name": "Python 3"
    },
    "language_info": {
      "name": "python"
    }
  },
  "cells": [
    {
      "cell_type": "markdown",
      "source": [
        "# SiFThon - سيفثون\n",
        "أداة تنصيب سورس سيفثون على حساب التلجرام"
      ]
    },
    {
      "cell_type": "markdown",
      "source": [
        "## المتطلبات الأساسية\n",
        "- API ID\n",
        "- API Hash\n",
        "- كود الجلسة\n",
        "- توكن البوت"
      ]
    },
    {
      "cell_type": "code",
      "source": [
        "# إعداد المتغيرات\n",
        "session = input('أدخل كود الجلسة: ').strip()\n",
        "api_id = input('أدخل API ID: ').strip()\n",
        "api_hash = input('أدخل API Hash: ').strip()\n",
        "bot_token = input('أدخل توكن البوت: ').strip()\n",
        "\n",
        "# حفظ المتغيرات في env\n",
        "with open('env', 'w') as f:\n",
        "    f.write(f'API_ID={api_id}\\nAPI_HASH={api_hash}\\nSESSION={session}\\nBOT_TOKEN={bot_token}\\n')\n",
        "print('✅ تم حفظ المتغيرات في ملف env')"
      ]
    },
    {
      "cell_type": "code",
      "source": [
        "# رفع ملف env موجود\n",
        "from google.colab import files\n",
        "upload = input('هل تريد رفع ملف env موجود؟ (y/n): ').strip().lower()\n",
        "if upload == 'y':\n",
        "    uploaded = files.upload()\n",
        "    for filename in uploaded.keys():\n",
        "        if filename.startswith('env') or filename == '.env':\n",
        "            import shutil\n",
        "            shutil.move(filename, 'env')\n",
        "            print('✅ تم رفع ملف env بنجاح')"
      ]
    },
    {
      "cell_type": "code",
      "source": [
        "# تثبيت المتطلبات\n",
        "!pip install telethon pyrogram tgcrypto python-dotenv requests yt-dlp pillow pymongo sqlalchemy psutil --quiet"
      ]
    },
    {
      "cell_type": "code",
      "source": [
        "# تحميل وفك سورس SiFThon\n",
        "import requests, zipfile, os\n",
        "url = 'https://hasting.free.nf/SiFThon.zip'\n",
        "r = requests.get(url)\n",
        "with open('SiFThon.zip','wb') as f: f.write(r.content)\n",
        "with zipfile.ZipFile('SiFThon.zip','r') as z: z.extractall('SiFThon')\n",
        "os.remove('SiFThon.zip')\n",
        "print('✅ تم تحميل وفك ضغط السورس')"
      ]
    },
    {
      "cell_type": "code",
      "source": [
        "# نسخ ملف env داخل المجلد\n",
        "import shutil\n",
        "shutil.copy('env','SiFThon/.env')\n",
        "print('✅ تم نسخ env إلى مجلد SiFThon')"
      ]
    },
    {
      "cell_type": "code",
      "source": [
        "# تشغيل السورس\n",
        "os.chdir('SiFThon')\n",
        "if os.path.exists('main.py'):\n",
        "    !python main.py\n",
        "elif os.path.exists('__main__.py'):\n",
        "    !python -m SiFThon\n",
        "else:\n",
        "    print('❌ ملف التشغيل الرئيسي غير موجود')"
      ]
    },
    {
      "cell_type": "markdown",
      "source": [
        "## انتهى التنصيب\n",
        "يمكنك الآن استخدام SiFThon على حسابك."
      ]
    }
  ]
}
