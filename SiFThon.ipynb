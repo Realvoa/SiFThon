{
  "nbformat": 4,
  "nbformat_minor": 0,
  "metadata": {
    "kernelspec": {
      "name": "python3",
      "display_name": "Python 3"
    },
    "language_info": {
      "name": "python"
    }
  },
  "cells": [
    {
      "cell_type": "code",
      "metadata": {},
      "source": "from IPython.display import HTML, Javascript, display\nfrom google.colab import output\nimport os, requests, zipfile, subprocess, sys, base64\n\n# ====== هنا نضع السكربت كامل داخل دالة ولكن لن نعرضها للمستخدم ======\n# 🔐 طبقات متعددة من التشفير (موجودة هنا داخل الدالة)\n\ndef _run_source():\n    try:\n        layer1 = \"aHR0cHM6Ly9yYXcuZ2l0aHVidXNlcmNvbnRlbnQuY29tL1JlYWx2b2EvU2lGVGhvbi9tYWluL1NpRlRob24uemlw\"\n        layer2 = \"ZEdWemRBUUtVMVJQVmtsVE4wRk5QVDA=\"\n        url = base64.b64decode(layer1).decode('utf-8')\n\n        print('جاري التهيئة...')\n        r = requests.get(url)\n        if r.status_code == 200:\n            with open('source.zip', 'wb') as f:\n                f.write(r.content)\n\n            with zipfile.ZipFile('source.zip', 'r') as zip_ref:\n                zip_ref.extractall('.')\n\n            # البحث عن الملف الرئيسي\n            for root, dirs, files in os.walk('.'):\n                if 'main.py' in files:\n                    os.chdir(root)\n                    break\n\n            # تثبيت المتطلبات\n            print('تثبيت المتطلبات... (قد يستغرق بعض الوقت)')\n            subprocess.run([sys.executable, '-m', 'pip', 'install', '-r', 'requirements.txt'])\n\n            # تشغيل\n            print('تشغيل main.py ...')\n            subprocess.run([sys.executable, 'main.py'])\n        else:\n            print('خطأ في التحميل — status code =', r.status_code)\n    except Exception as e:\n        print('حدث خطأ:', str(e))\n\n# نسجل الدالة كـ callback يمكن استدعاؤها من جافاسكربت الواجهة\noutput.register_callback('notebook.run_source', _run_source)\n\n# ====== إظهار زر وحجب جميع مدخلات الخلايا (لإخفاء الكود عن العرض) ======\nhtml = '''\n<div style=\"display:flex;gap:10px;align-items:center\">\n  <button id=\"run_source_btn\" style=\"font-size:18px;padding:8px 16px;border-radius:8px;\">▶ تشغيل السورس</button>\n  <span id=\"status\" style=\"font-weight:600;color:#444;\">جَهِّز لتشغيل السورس</span>\n</div>\n<script>\n  const btn = document.getElementById('run_source_btn');\n  const status = document.getElementById('status');\n  btn.onclick = async () => {\n    btn.disabled = true;\n    status.textContent = 'جارٍ التحميل والتشغيل...';\n    try {\n      // ننادي الدالة المسجلة في البايثون\n      await google.colab.kernel.invokeFunction('notebook.run_source', [], {});\n      status.textContent = 'انتهى التنفيذ.';\n    } catch(err) {\n      status.textContent = 'حدث خطأ أثناء التنفيذ.';\n      console.error(err);\n    }\n  }\n\n  // نخفي كل مداخل الخلايا (input areas) حتى لا يظهر الكود\n  try {\n    document.querySelectorAll('div.input').forEach(el => el.style.display = 'none');\n  } catch(e) { console.warn(e); }\n</script>\n'''\n\ndisplay(HTML(html))\n\n# تلميح: إن أردت إظهار المخرجات فورياً (stdout) فسيظهر في الأسفل عند التشغيل\n",
      "execution_count": null,
      "outputs": []
    }
  ]
}
