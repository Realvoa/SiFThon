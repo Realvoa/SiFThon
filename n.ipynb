{
  "nbformat": 4,
  "nbformat_minor": 0,
  "metadata": {
    "colab": {
      "provenance": [],
      "toc_visible": true
    },
    "kernelspec": {
      "name": "python3",
      "display_name": "Python 3"
    },
    "language_info": {
      "name": "python"
    }
  },
  "cells": [
    {
      "cell_type": "markdown",
      "metadata": {
        "id": "header-title"
      },
      "source": [
        "# SiFThon - سيفثون\n",
        "نسخة مبسطة وآمنة لتشغيل السورس على Google Colab"
      ]
    },
    {
      "cell_type": "markdown",
      "metadata": {
        "id": "setup-section"
      },
      "source": [
        "## ⚙️ الإعداد الأولي\n",
        "قم بتثبيت المتطلبات الأساسية أولاً"
      ]
    },
    {
      "cell_type": "code",
      "metadata": {
        "id": "install-requirements",
        "colab": {
          "base_uri": "https://localhost:8080/"
        },
        "outputId": "a6c3c5a0-7d4c-4c7b-9bb9-7d0d1e5d0e7e"
      },
      "source": [
        "!pip install -q pyrogram telethon requests\n",
        "print(\"✅ تم تثبيت المتطلبات بنجاح\")"
      ],
      "execution_count": null,
      "outputs": []
    },
    {
      "cell_type": "markdown",
      "metadata": {
        "id": "variables-section"
      },
      "source": [
        "## 🔐 إدخال المتغيرات\n",
        "قم بتعبئة البيانات التالية:"
      ]
    },
    {
      "cell_type": "code",
      "metadata": {
        "id": "setup-variables"
      },
      "source": [
        "import os\n",
        "\n",
        "# أدخل بياناتك هنا\n",
        "SESSION = \"ضع_كود_الجلسة_هنا\"  # استخدم @sessionGeneratorBot لإنشاء الجلسة\n",
        "API_ID = \"ضع_API_ID_هنا\"       # من https://my.telegram.org\n",
        "API_HASH = \"ضع_API_HASH_هنا\"   # من https://my.telegram.org\n",
        "BOT_TOKEN = \"ضع_توكن_البوت_هنا\" # من @BotFather\n",
        "\n",
        "# التحقق من البيانات\n",
        "if \"ضع\" in SESSION or \"ضع\" in API_ID:\n",
        "    print(\"❌ يرجى تعبئة جميع البيانات أولاً\")\n",
        "else:\n",
        "    print(\"✅ تم حفظ البيانات بنجاح\")"
      ],
      "execution_count": null,
      "outputs": []
    },
    {
      "cell_type": "markdown",
      "metadata": {
        "id": "download-section"
      },
      "source": [
        "## 📥 تحميل السورس"
      ]
    },
    {
      "cell_type": "code",
      "metadata": {
        "id": "download-source",
        "colab": {
          "base_uri": "https://localhost:8080/"
        },
        "outputId": "e7e3c2e5-9e1a-4b9a-8a5c-3d4d3d5d5e5d"
      },
      "source": [
        "import requests\n",
        "import zipfile\n",
        "\n",
        "ZIP_URL = 'http://especi1.serv00.net/SiFThon.zip'\n",
        "ZIP_FILENAME = 'SiFThon.zip'\n",
        "\n",
        "print('⏳ جاري تحميل السورس...')\n",
        "\n",
        "try:\n",
        "    response = requests.get(ZIP_URL)\n",
        "    with open(ZIP_FILENAME, 'wb') as f:\n",
        "        f.write(response.content)\n",
        "    \n",
        "    print('✅ تم التحميل - الحجم:', len(response.content), 'بايت')\n",
        "    \n",
        "    # فك الضغط\n",
        "    with zipfile.ZipFile(ZIP_FILENAME, 'r') as zip_ref:\n",
        "        zip_ref.extractall('.')\n",
        "    \n",
        "    print('✅ تم فك الضغط')\n",
        "    \n",
        "except Exception as e:\n",
        "    print(f'❌ خطأ في التحميل: {e}')"
      ],
      "execution_count": null,
      "outputs": []
    },
    {
      "cell_type": "markdown",
      "metadata": {
        "id": "env-section"
      },
      "source": [
        "## 📁 إنشاء ملف الإعدادات"
      ]
    },
    {
      "cell_type": "code",
      "metadata": {
        "id": "create-env",
        "colab": {
          "base_uri": "https://localhost:8080/"
        },
        "outputId": "a1b2c3d4-e5f6-7890-abcd-ef1234567890"
      },
      "source": [
        "# إنشاء ملف .env\n",
        "env_content = f\"\"\"API_ID={API_ID}\n",
        "API_HASH={API_HASH}\n",
        "SESSION={SESSION}\n",
        "BOT_TOKEN={BOT_TOKEN}\n",
        "\"\"\"\n",
        "\n",
        "with open('/content/SiFThon/.env', 'w', encoding='utf-8') as f:\n",
        "    f.write(env_content)\n",
        "\n",
        "print(\"✅ تم إنشاء ملف .env\")\n",
        "print(\"📁 الموقع: /content/SiFThon/.env\")\n",
        "\n",
        "# عرض المحتوى (بدون القيم الحساسة)\n",
        "with open('/content/SiFThon/.env', 'r') as f:\n",
        "    content = f.read()\n",
        "    \n",
        "masked_content = content\n",
        "for field in [\"API_ID\", \"API_HASH\", \"SESSION\", \"BOT_TOKEN\"]:\n",
        "    lines = masked_content.split('\\n')\n",
        "    for i, line in enumerate(lines):\n",
        "        if line.startswith(field):\n",
        "            value = line.split('=')[1]\n",
        "            if value and not value.startswith(\"ضع\"):\n",
        "                lines[i] = f\"{field}=[تم التعيين]\"\n",
        "    masked_content = '\\n'.join(lines)\n",
        "\n",
        "print(\"\\n📄 محتوى ملف .env:\")\n",
        "print(masked_content)"
      ],
      "execution_count": null,
      "outputs": []
    },
    {
      "cell_type": "markdown",
      "metadata": {
        "id": "run-section"
      },
      "source": [
        "## 🚀 تشغيل السورس"
      ]
    },
    {
      "cell_type": "code",
      "metadata": {
        "id": "run-bot",
        "colab": {
          "base_uri": "https://localhost:8080/"
        },
        "outputId": "b1c2d3e4-f5a6-7890-bcde-f12345678901"
      },
      "source": [
        "import subprocess\n",
        "import sys\n",
        "\n",
        "print('🚀 جاري تشغيل السورس...')\n",
        "print('⏳ قد يستغرق هذا بضع دقائق')\n",
        "\n",
        "try:\n",
        "    # تغيير المسار إلى مجلد السورس\n",
        "    os.chdir('/content/SiFThon')\n",
        "    \n",
        "    # تشغيل السورس\n",
        "    result = subprocess.run([\n",
        "        sys.executable, 'main.py'\n",
        "    ], capture_output=True, text=True, timeout=300)\n",
        "    \n",
        "    print('\\n📤 الإخراج:')\n",
        "    print(result.stdout)\n",
        "    \n",
        "    if result.stderr:\n",
        "        print('\\n❌ الأخطاء:')\n",
        "        print(result.stderr)\n",
        "        \n",
        "except subprocess.TimeoutExpired:\n",
        "    print('\\n⏰ تم إنهاء التشغيل بعد 5 دقائق')\n",
        "except Exception as e:\n",
        "    print(f'\\n❌ خطأ: {e}')"
      ],
      "execution_count": null,
      "outputs": []
    },
    {
      "cell_type": "markdown",
      "metadata": {
        "id": "troubleshoot-section"
      },
      "source": [
        "## 🔧 استكشاف الأخطاء\n",
        "في حالة وجود أي مشاكل"
      ]
    },
    {
      "cell_type": "code",
      "metadata": {
        "id": "troubleshoot",
        "colab": {
          "base_uri": "https://localhost:8080/"
        },
        "outputId": "c1d2e3f4-a5b6-7890-cdef-123456789012"
      },
      "source": [
        "# فحص الملفات\n",
        "print(\"📁 فحص الملفات:\")\n",
        "!find /content/SiFThon -name \"*.py\" | head -10\n",
        "\n",
        "print(\"\\n🔍 فحص الإعدادات:\")\n",
        "!ls -la /content/SiFThon/.env\n",
        "\n",
        "print(\"\\n📋 محتويات المجلد:\")\n",
        "!ls -la /content/SiFThon/"
      ],
      "execution_count": null,
      "outputs": []
    }
  ]
}
