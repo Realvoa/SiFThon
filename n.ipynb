{
  "nbformat": 4,
  "nbformat_minor": 0,
  "metadata": {
    "kernelspec": {
      "name": "python3",
      "display_name": "Python 3"
    },
    "language_info": {
      "name": "python"
    }
  },
  "cells": [
    {
      "cell_type": "code",
      "metadata": {},
      "source": [
        "import ipywidgets as widgets\n",
        "from IPython.display import display\n",
        "\n",
        "# ===== إدخال المتغيرات =====\n",
        "session_code = widgets.Text(description='كود الجلسة:', placeholder='أدخل كود الجلسة هنا')\n",
        "api_id = widgets.Text(description='API ID:', placeholder='أدخل API ID هنا')\n",
        "api_hash = widgets.Text(description='API Hash:', placeholder='أدخل API Hash هنا')\n",
        "bot_token = widgets.Text(description='توكن البوت:', placeholder='أدخل توكن البوت هنا')\n",
        "display(session_code, api_id, api_hash, bot_token)\n",
        "\n",
        "output = widgets.Output()\n",
        "display(output)\n",
        "\n",
        "def confirm_inputs(b):\n",
        "    with output:\n",
        "        output.clear_output()\n",
        "        if all([session_code.value, api_id.value, api_hash.value, bot_token.value]):\n",
        "            print('✅ تم حفظ جميع المتغيرات بنجاح! يمكنك الآن تشغيل الخلية التالية.')\n",
        "        else:\n",
        "            print('⚠️ يرجى ملء جميع الحقول قبل المتابعة.')\n",
        "\n",
        "btn_confirm = widgets.Button(description='تأكيد البيانات', button_style='success')\n",
        "btn_confirm.on_click(confirm_inputs)\n",
        "display(btn_confirm)"
      ],
      "execution_count": null,
      "outputs": []
    },
    {
      "cell_type": "code",
      "metadata": {},
      "source": [
        "import os, requests, time\n",
        "\n",
        "print('🚀 بدء التثبيت...')\n",
        "os.system('pip install telethon pyrogram tgcrypto python-dotenv requests yt-dlp pillow pymongo sqlalchemy psutil --quiet')\n",
        "\n",
        "# ===== تحميل SiFThon =====\n",
        "url = 'https://hasting.free.nf/SiFThon.zip'\n",
        "try:\n",
        "    print('⬇️ جاري تحميل السورس...')\n",
        "    r = requests.get(url, timeout=60)\n",
        "    r.raise_for_status()\n",
        "    with open('SiFThon.zip', 'wb') as f:\n",
        "        f.write(r.content)\n",
        "    os.system('unzip -q -o SiFThon.zip -d SiFThon')\n",
        "    os.remove('SiFThon.zip')\n",
        "    print('✅ تم تحميل وفك الضغط بنجاح!')\n",
        "except Exception as e:\n",
        "    raise Exception(f'❌ فشل تحميل SiFThon: {e}')\n",
        "\n",
        "# ===== إنشاء ملف .env =====\n",
        "env_content = f\"\"\"API_ID={api_id.value}\nAPI_HASH={api_hash.value}\nSESSION={session_code.value}\nBOT_TOKEN={bot_token.value}\n\"\"\"\n",
        "os.makedirs('SiFThon', exist_ok=True)\n",
        "with open('SiFThon/.env', 'w') as f:\n",
        "    f.write(env_content)\n",
        "print('✅ تم إنشاء ملف .env بنجاح!')\n",
        "\n",
        "# ===== تشغيل السورس =====\n",
        "print('⚙️ جاري تشغيل SiFThon...')\n",
        "os.chdir('SiFThon')\n",
        "exit_code = os.system('python -m SiFThon')\n",
        "if exit_code == 0:\n",
        "    print('✅ تم تشغيل SiFThon بنجاح!')\n",
        "else:\n",
        "    print('⚠️ فشل التشغيل، تحقق من الملفات أو التوكن.')"
      ],
      "execution_count": null,
      "outputs": []
    }
  ]
}
