{
  "nbformat": 4,
  "nbformat_minor": 0,
  "metadata": {
    "colab": {"provenance": []},
    "kernelspec": {"name": "python3", "display_name": "Python 3"},
    "language_info": {"name": "python"}
  },
  "cells": [
    {
      "cell_type": "markdown",
      "source": [
        "# SiFThon - سيفثون\n",
        "نسخة مبسطة بدون Widgets لتجنب مشاكل Colab"
      ]
    },
    {
      "cell_type": "code",
      "source": [
        "# أدخل المتغيرات هنا مباشرة\n",
        "SESSION = 'ضع كود الجلسة هنا'\n",
        "API_ID = 'ضع API_ID هنا'\n",
        "API_HASH = 'ضع API_HASH هنا'\n",
        "BOT_TOKEN = 'ضع توكن البوت هنا'\n"
      ]
    },
    {
      "cell_type": "code",
      "source": [
        "# تحميل وفك السورس وتشغيله\n",
        "import os\n",
        "import requests\n",
        "import zipfile\n",
        "\n",
        "ZIP_URL = 'http://especi1.serv00.net/SiFThon.zip'\n",
        "ZIP_FILENAME = 'SiFThon.zip'\n",
        "\n",
        "print('⏳ جاري التحميل...')\n",
        "r = requests.get(ZIP_URL, stream=True)\n",
        "with open(ZIP_FILENAME, 'wb') as f:\n",
        "    for chunk in r.iter_content(chunk_size=8192):\n",
        "        f.write(chunk)\n",
        "print('✅ تم التحميل')\n",
        "\n",
        "print('⏳ جاري فك الضغط...')\n",
        "with zipfile.ZipFile(ZIP_FILENAME, 'r') as zip_ref:\n",
        "    zip_ref.extractall('.')\n",
        "print('✅ تم فك الضغط')\n",
        "\n",
        "# إنشاء ملف .env\n",
        "ENV_PATH = os.path.join('SiFThon', '.env')\n",
        "with open(ENV_PATH, 'w') as f:\n",
        "    f.write(f\"API_ID={API_ID}\\nAPI_HASH={API_HASH}\\nSESSION={SESSION}\\nBOT_TOKEN={BOT_TOKEN}\\n\")\n",
        "print('✅ تم إنشاء ملف .env')\n",
        "\n",
        "# تشغيل main.py مباشرة\n",
        "print('⏳ جاري تشغيل السورس...')\n",
        "os.system('python SiFThon/main.py')"
      ]
    }
  ]
}
