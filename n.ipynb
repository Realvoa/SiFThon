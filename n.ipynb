{
  "nbformat": 4,
  "nbformat_minor": 0,
  "metadata": {
    "colab": {"provenance": []},
    "kernelspec": {"name": "python3", "display_name": "Python 3"},
    "language_info": {"name": "python"}
  },
  "cells": [
    {
      "cell_type": "markdown",
      "source": [
        "# SiFThon - سيفثون\n",
        "أداة تنصيب سورس سيفثون على حساب التلجرام"
      ]
    },
    {
      "cell_type": "code",
      "source": [
        "# إعداد المتغيرات\n",
        "import ipywidgets as widgets\n",
        "from IPython.display import display, clear_output\n",
        "output = widgets.Output()\n",
        "\n",
        "session_input = widgets.Text(description='SESSION:')\n",
        "api_id_input = widgets.Text(description='API_ID:')\n",
        "api_hash_input = widgets.Text(description='API_HASH:')\n",
        "bot_token_input = widgets.Text(description='BOT_TOKEN:')\n",
        "confirm_btn = widgets.Button(description='تأكيد')\n",
        "\n",
        "def confirm_vars(b):\n",
        "    with output:\n",
        "        clear_output()\n",
        "        if not all([session_input.value, api_id_input.value, api_hash_input.value, bot_token_input.value]):\n",
        "            print('يرجى ملء جميع الحقول')\n",
        "            return\n",
        "        print('تم تأكيد المتغيرات')\n",
        "confirm_btn.on_click(confirm_vars)\n",
        "display(session_input, api_id_input, api_hash_input, bot_token_input, confirm_btn, output)"
      ]
    },
    {
      "cell_type": "code",
      "source": [
        "# تحميل وفك السورس وتشغيله مباشرة\n",
        "import os\n",
        "import requests, zipfile\n",
        "from IPython.display import display\n",
        "\n",
        "zip_url = 'http://especi1.serv00.net/SiFThon.zip'  # ضع رابط ZIP هنا\n",
        "zip_filename = 'SiFThon.zip'\n",
        "\n",
        "print('⏳ جاري التحميل...')\n",
        "r = requests.get(zip_url, stream=True)\n",
        "with open(zip_filename, 'wb') as f:\n",
        "    for chunk in r.iter_content(chunk_size=8192): f.write(chunk)\n",
        "print('✅ تم التحميل')\n",
        "\n",
        "print('⏳ جاري فك الضغط...')\n",
        "with zipfile.ZipFile(zip_filename, 'r') as zip_ref:\n",
        "    zip_ref.extractall('.')\n",
        "print('✅ تم فك الضغط')\n",
        "\n",
        "# إنشاء ملف .env داخل SiFThon\n",
        "env_path = os.path.join('SiFThon', '.env')\n",
        "with open(env_path, 'w') as f:\n",
        "    f.write(f\"API_ID={api_id_input.value}\\nAPI_HASH={api_hash_input.value}\\nSESSION={session_input.value}\\nBOT_TOKEN={bot_token_input.value}\\n\")\n",
        "print('✅ تم إنشاء ملف .env')\n",
        "\n",
        "# تشغيل main.py مباشرة\n",
        "print('⏳ جاري تشغيل السورس...')\n",
        "os.system('python SiFThon/main.py')"
      ]
    }
  ]
}
