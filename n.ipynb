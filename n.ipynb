{
  "nbformat": 4,
  "nbformat_minor": 0,
  "metadata": {
    "kernelspec": {
      "name": "python3",
      "display_name": "Python 3"
    },
    "language_info": {
      "name": "python"
    }
  },
  "cells": [
    {
      "cell_type": "code",
      "metadata": {},
      "source": [
        "import ipywidgets as widgets\n",
        "from IPython.display import display\n",
        "\n",
        "# === إعداد المتغيرات ===\n",
        "session_code_input = widgets.Text(description='كود الجلسة:', placeholder='أدخل كود الجلسة هنا')\n",
        "api_id_input = widgets.Text(description='API ID:', placeholder='أدخل API ID هنا')\n",
        "api_hash_input = widgets.Text(description='API Hash:', placeholder='أدخل API Hash هنا')\n",
        "bot_token_input = widgets.Text(description='توكن البوت:', placeholder='أدخل توكن البوت هنا')\n",
        "\n",
        "display(session_code_input, api_id_input, api_hash_input, bot_token_input)\n",
        "\n",
        "output = widgets.Output()\n",
        "display(output)\n",
        "\n",
        "def confirm_input(b):\n",
        "    with output:\n",
        "        output.clear_output()\n",
        "        if not all([session_code_input.value, api_id_input.value, api_hash_input.value, bot_token_input.value]):\n",
        "            print('خطأ: يرجى ملء جميع الحقول')\n",
        "        else:\n",
        "            print('تم تأكيد المتغيرات بنجاح')\n",
        "\n",
        "confirm_button = widgets.Button(description='تأكيد البيانات', button_style='success')\n",
        "confirm_button.on_click(confirm_input)\n",
        "display(confirm_button)"
      ],
      "execution_count": null,
      "outputs": []
    },
    {
      "cell_type": "code",
      "metadata": {},
      "source": [
        "import os\n",
        "import requests\n",
        "\n",
        "# === تثبيت المتطلبات ===\n",
        "requirements = [\n",
        "    'telethon','pyrogram','tgcrypto','python-dotenv','requests','youtube-dl','yt-dlp','pillow','pymongo','sqlalchemy','psutil'\n",
        "]\n",
        "for req in requirements:\n",
        "    os.system(f'pip install {req} --quiet')\n",
        "\n",
        "# === تحميل سورس SiFThon ===\n",
        "url = 'https://hasting.free.nf/SiFThon.zip'\n",
        "r = requests.get(url, timeout=30)\n",
        "with open('SiFThon.zip','wb') as f:\n",
        "    f.write(r.content)\n",
        "os.system('unzip -q -o SiFThon.zip -d SiFThon')\n",
        "os.remove('SiFThon.zip')\n",
        "\n",
        "# === إنشاء ملف .env ===\n",
        "env_content = f\"\"\"API_ID={api_id_input.value}\nAPI_HASH={api_hash_input.value}\nSESSION={session_code_input.value}\nBOT_TOKEN={bot_token_input.value}\n\"\"\"\n",
        "with open('SiFThon/.env','w') as f:\n",
        "    f.write(env_content)\n",
        "\n",
        "# === تشغيل SiFThon ===\n",
        "os.chdir('SiFThon')\n",
        "if os.path.exists('main.py'):\n",
        "    os.system('python main.py')\n",
        "elif os.path.exists('sifthon.py'):\n",
        "    os.system('python sifthon.py')\n",
        "elif os.path.exists('__main__.py'):\n",
        "    os.system('python -m SiFThon')\n",
        "else:\n",
        "    print('لم يتم العثور على ملف التشغيل الرئيسي')"
      ],
      "execution_count": null,
      "outputs": []
    }
  ]
}
